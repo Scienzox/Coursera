{
  "nbformat": 4,
  "nbformat_minor": 0,
  "metadata": {
    "kernelspec": {
      "display_name": "Python 3",
      "language": "python",
      "name": "python3"
    },
    "language_info": {
      "codemirror_mode": {
        "name": "ipython",
        "version": 3
      },
      "file_extension": ".py",
      "mimetype": "text/x-python",
      "name": "python",
      "nbconvert_exporter": "python",
      "pygments_lexer": "ipython3",
      "version": "3.5.1"
    },
    "colab": {
      "name": "search_for_rare_decays.ipynb",
      "provenance": [],
      "collapsed_sections": [],
      "toc_visible": true
    }
  },
  "cells": [
    {
      "cell_type": "code",
      "metadata": {
        "id": "d2jff7lKZ2w3",
        "colab": {
          "base_uri": "https://localhost:8080/"
        },
        "outputId": "4037311d-d0e2-4b29-8a84-c7da4007333d"
      },
      "source": [
        "%pylab inline"
      ],
      "execution_count": 1,
      "outputs": [
        {
          "output_type": "stream",
          "text": [
            "Populating the interactive namespace from numpy and matplotlib\n"
          ],
          "name": "stdout"
        }
      ]
    },
    {
      "cell_type": "code",
      "metadata": {
        "colab": {
          "base_uri": "https://localhost:8080/"
        },
        "id": "_XxPH3JZhh65",
        "outputId": "cc48f494-c68f-4fe5-bb5c-542b16ea0e3a"
      },
      "source": [
        "!pip install hep-ml"
      ],
      "execution_count": 2,
      "outputs": [
        {
          "output_type": "stream",
          "text": [
            "Requirement already satisfied: hep-ml in /usr/local/lib/python3.6/dist-packages (0.6.1)\n",
            "Requirement already satisfied: pandas>=0.14.0 in /usr/local/lib/python3.6/dist-packages (from hep-ml) (1.1.4)\n",
            "Requirement already satisfied: scikit-learn>=0.19 in /usr/local/lib/python3.6/dist-packages (from hep-ml) (0.22.2.post1)\n",
            "Requirement already satisfied: theano>=1.0.2 in /usr/local/lib/python3.6/dist-packages (from hep-ml) (1.0.5)\n",
            "Requirement already satisfied: six in /usr/local/lib/python3.6/dist-packages (from hep-ml) (1.15.0)\n",
            "Requirement already satisfied: numpy>=1.9 in /usr/local/lib/python3.6/dist-packages (from hep-ml) (1.18.5)\n",
            "Requirement already satisfied: scipy>=0.15.0 in /usr/local/lib/python3.6/dist-packages (from hep-ml) (1.4.1)\n",
            "Requirement already satisfied: python-dateutil>=2.7.3 in /usr/local/lib/python3.6/dist-packages (from pandas>=0.14.0->hep-ml) (2.8.1)\n",
            "Requirement already satisfied: pytz>=2017.2 in /usr/local/lib/python3.6/dist-packages (from pandas>=0.14.0->hep-ml) (2018.9)\n",
            "Requirement already satisfied: joblib>=0.11 in /usr/local/lib/python3.6/dist-packages (from scikit-learn>=0.19->hep-ml) (0.17.0)\n"
          ],
          "name": "stdout"
        }
      ]
    },
    {
      "cell_type": "code",
      "metadata": {
        "id": "rCqbfF-qZ2w6",
        "colab": {
          "base_uri": "https://localhost:8080/"
        },
        "outputId": "184ab46e-8e7e-423e-db69-abe527dd2ff1"
      },
      "source": [
        "import pandas as pd\n",
        "from sklearn.model_selection import train_test_split\n",
        "\n",
        "from sklearn.ensemble import AdaBoostClassifier\n",
        "from sklearn.tree import DecisionTreeClassifier\n",
        "\n",
        "from sklearn.metrics import roc_curve, roc_auc_score\n",
        "\n",
        "from hep_ml import metrics"
      ],
      "execution_count": 3,
      "outputs": [
        {
          "output_type": "stream",
          "text": [
            "/usr/local/lib/python3.6/dist-packages/sklearn/utils/deprecation.py:144: FutureWarning: The sklearn.neighbors.unsupervised module is  deprecated in version 0.22 and will be removed in version 0.24. The corresponding classes / functions should instead be imported from sklearn.neighbors. Anything that cannot be imported from sklearn.neighbors is now part of the private API.\n",
            "  warnings.warn(message, FutureWarning)\n"
          ],
          "name": "stderr"
        }
      ]
    },
    {
      "cell_type": "markdown",
      "metadata": {
        "id": "dHpEwmlGZ2w7"
      },
      "source": [
        "# Load dataset and split into training / test\n",
        "\n",
        "`training.csv` is a mixture of simulated signal, real background.\n",
        "It has the following columns.\n",
        "\n",
        "`test.csv` has the following columns:\n",
        "\n"
      ]
    },
    {
      "cell_type": "code",
      "metadata": {
        "id": "EqD9gtM_Z2w7"
      },
      "source": [
        "train_ada = pd.read_csv('training.csv.gz', sep=',')\n",
        "test_ada = pd.read_csv('test.csv.gz', sep=',', index_col='id')"
      ],
      "execution_count": 4,
      "outputs": []
    },
    {
      "cell_type": "code",
      "metadata": {
        "id": "hGYJzWI-Z2w7",
        "colab": {
          "base_uri": "https://localhost:8080/"
        },
        "outputId": "6da6b879-63ae-436a-ca60-6e2aa81c9004"
      },
      "source": [
        "print (\"Training full sample columns:\", \", \".join(train_ada.columns), \"\\nShape:\", train_ada.shape)"
      ],
      "execution_count": 5,
      "outputs": [
        {
          "output_type": "stream",
          "text": [
            "Training full sample columns: id, LifeTime, dira, FlightDistance, FlightDistanceError, IP, IPSig, VertexChi2, pt, DOCAone, DOCAtwo, DOCAthree, IP_p0p2, IP_p1p2, isolationa, isolationb, isolationc, isolationd, isolatione, isolationf, iso, CDF1, CDF2, CDF3, ISO_SumBDT, p0_IsoBDT, p1_IsoBDT, p2_IsoBDT, p0_track_Chi2Dof, p1_track_Chi2Dof, p2_track_Chi2Dof, p0_IP, p1_IP, p2_IP, p0_IPSig, p1_IPSig, p2_IPSig, p0_pt, p1_pt, p2_pt, p0_p, p1_p, p2_p, p0_eta, p1_eta, p2_eta, SPDhits, production, signal, mass, min_ANNmuon \n",
            "Shape: (67553, 51)\n"
          ],
          "name": "stdout"
        }
      ]
    },
    {
      "cell_type": "code",
      "metadata": {
        "id": "AqK5GhcKZ2w7",
        "colab": {
          "base_uri": "https://localhost:8080/",
          "height": 278
        },
        "outputId": "17cc03ef-8411-423b-b649-b67d6990601b"
      },
      "source": [
        "print (\"Test full sample columns:\", \", \".join(test_ada.columns), \"\\nShape:\", test_ada.shape)\n",
        "test_ada.head()"
      ],
      "execution_count": 6,
      "outputs": [
        {
          "output_type": "stream",
          "text": [
            "Test full sample columns: LifeTime, dira, FlightDistance, FlightDistanceError, IP, IPSig, VertexChi2, pt, DOCAone, DOCAtwo, DOCAthree, IP_p0p2, IP_p1p2, isolationa, isolationb, isolationc, isolationd, isolatione, isolationf, iso, CDF1, CDF2, CDF3, ISO_SumBDT, p0_IsoBDT, p1_IsoBDT, p2_IsoBDT, p0_track_Chi2Dof, p1_track_Chi2Dof, p2_track_Chi2Dof, p0_IP, p1_IP, p2_IP, p0_IPSig, p1_IPSig, p2_IPSig, p0_pt, p1_pt, p2_pt, p0_p, p1_p, p2_p, p0_eta, p1_eta, p2_eta, SPDhits \n",
            "Shape: (855819, 46)\n"
          ],
          "name": "stdout"
        },
        {
          "output_type": "execute_result",
          "data": {
            "text/html": [
              "<div>\n",
              "<style scoped>\n",
              "    .dataframe tbody tr th:only-of-type {\n",
              "        vertical-align: middle;\n",
              "    }\n",
              "\n",
              "    .dataframe tbody tr th {\n",
              "        vertical-align: top;\n",
              "    }\n",
              "\n",
              "    .dataframe thead th {\n",
              "        text-align: right;\n",
              "    }\n",
              "</style>\n",
              "<table border=\"1\" class=\"dataframe\">\n",
              "  <thead>\n",
              "    <tr style=\"text-align: right;\">\n",
              "      <th></th>\n",
              "      <th>LifeTime</th>\n",
              "      <th>dira</th>\n",
              "      <th>FlightDistance</th>\n",
              "      <th>FlightDistanceError</th>\n",
              "      <th>IP</th>\n",
              "      <th>IPSig</th>\n",
              "      <th>VertexChi2</th>\n",
              "      <th>pt</th>\n",
              "      <th>DOCAone</th>\n",
              "      <th>DOCAtwo</th>\n",
              "      <th>DOCAthree</th>\n",
              "      <th>IP_p0p2</th>\n",
              "      <th>IP_p1p2</th>\n",
              "      <th>isolationa</th>\n",
              "      <th>isolationb</th>\n",
              "      <th>isolationc</th>\n",
              "      <th>isolationd</th>\n",
              "      <th>isolatione</th>\n",
              "      <th>isolationf</th>\n",
              "      <th>iso</th>\n",
              "      <th>CDF1</th>\n",
              "      <th>CDF2</th>\n",
              "      <th>CDF3</th>\n",
              "      <th>ISO_SumBDT</th>\n",
              "      <th>p0_IsoBDT</th>\n",
              "      <th>p1_IsoBDT</th>\n",
              "      <th>p2_IsoBDT</th>\n",
              "      <th>p0_track_Chi2Dof</th>\n",
              "      <th>p1_track_Chi2Dof</th>\n",
              "      <th>p2_track_Chi2Dof</th>\n",
              "      <th>p0_IP</th>\n",
              "      <th>p1_IP</th>\n",
              "      <th>p2_IP</th>\n",
              "      <th>p0_IPSig</th>\n",
              "      <th>p1_IPSig</th>\n",
              "      <th>p2_IPSig</th>\n",
              "      <th>p0_pt</th>\n",
              "      <th>p1_pt</th>\n",
              "      <th>p2_pt</th>\n",
              "      <th>p0_p</th>\n",
              "      <th>p1_p</th>\n",
              "      <th>p2_p</th>\n",
              "      <th>p0_eta</th>\n",
              "      <th>p1_eta</th>\n",
              "      <th>p2_eta</th>\n",
              "      <th>SPDhits</th>\n",
              "    </tr>\n",
              "    <tr>\n",
              "      <th>id</th>\n",
              "      <th></th>\n",
              "      <th></th>\n",
              "      <th></th>\n",
              "      <th></th>\n",
              "      <th></th>\n",
              "      <th></th>\n",
              "      <th></th>\n",
              "      <th></th>\n",
              "      <th></th>\n",
              "      <th></th>\n",
              "      <th></th>\n",
              "      <th></th>\n",
              "      <th></th>\n",
              "      <th></th>\n",
              "      <th></th>\n",
              "      <th></th>\n",
              "      <th></th>\n",
              "      <th></th>\n",
              "      <th></th>\n",
              "      <th></th>\n",
              "      <th></th>\n",
              "      <th></th>\n",
              "      <th></th>\n",
              "      <th></th>\n",
              "      <th></th>\n",
              "      <th></th>\n",
              "      <th></th>\n",
              "      <th></th>\n",
              "      <th></th>\n",
              "      <th></th>\n",
              "      <th></th>\n",
              "      <th></th>\n",
              "      <th></th>\n",
              "      <th></th>\n",
              "      <th></th>\n",
              "      <th></th>\n",
              "      <th></th>\n",
              "      <th></th>\n",
              "      <th></th>\n",
              "      <th></th>\n",
              "      <th></th>\n",
              "      <th></th>\n",
              "      <th></th>\n",
              "      <th></th>\n",
              "      <th></th>\n",
              "      <th></th>\n",
              "    </tr>\n",
              "  </thead>\n",
              "  <tbody>\n",
              "    <tr>\n",
              "      <th>14711831</th>\n",
              "      <td>0.001273</td>\n",
              "      <td>0.999816</td>\n",
              "      <td>8.569642</td>\n",
              "      <td>0.310039</td>\n",
              "      <td>0.197893</td>\n",
              "      <td>5.183939</td>\n",
              "      <td>2.286117</td>\n",
              "      <td>687.479248</td>\n",
              "      <td>0.022301</td>\n",
              "      <td>0.050763</td>\n",
              "      <td>0.124735</td>\n",
              "      <td>0.148945</td>\n",
              "      <td>0.065997</td>\n",
              "      <td>0</td>\n",
              "      <td>1</td>\n",
              "      <td>4</td>\n",
              "      <td>2.0</td>\n",
              "      <td>2.0</td>\n",
              "      <td>0.0</td>\n",
              "      <td>4.0</td>\n",
              "      <td>0.448872</td>\n",
              "      <td>0.411983</td>\n",
              "      <td>0.141371</td>\n",
              "      <td>-0.751272</td>\n",
              "      <td>-0.145808</td>\n",
              "      <td>-0.280569</td>\n",
              "      <td>-0.324895</td>\n",
              "      <td>0.753610</td>\n",
              "      <td>1.846906</td>\n",
              "      <td>1.031751</td>\n",
              "      <td>0.329494</td>\n",
              "      <td>0.872634</td>\n",
              "      <td>0.686377</td>\n",
              "      <td>3.465280</td>\n",
              "      <td>10.841214</td>\n",
              "      <td>22.478136</td>\n",
              "      <td>508.926514</td>\n",
              "      <td>306.629456</td>\n",
              "      <td>714.222717</td>\n",
              "      <td>30300.734375</td>\n",
              "      <td>5662.158691</td>\n",
              "      <td>7406.368164</td>\n",
              "      <td>4.779700</td>\n",
              "      <td>3.608334</td>\n",
              "      <td>3.029715</td>\n",
              "      <td>705</td>\n",
              "    </tr>\n",
              "    <tr>\n",
              "      <th>16316387</th>\n",
              "      <td>0.000661</td>\n",
              "      <td>0.999954</td>\n",
              "      <td>7.061379</td>\n",
              "      <td>0.348772</td>\n",
              "      <td>0.067430</td>\n",
              "      <td>6.316281</td>\n",
              "      <td>3.865824</td>\n",
              "      <td>5691.845703</td>\n",
              "      <td>0.002455</td>\n",
              "      <td>0.037633</td>\n",
              "      <td>0.005614</td>\n",
              "      <td>0.116943</td>\n",
              "      <td>0.117106</td>\n",
              "      <td>19</td>\n",
              "      <td>6</td>\n",
              "      <td>9</td>\n",
              "      <td>3.0</td>\n",
              "      <td>0.0</td>\n",
              "      <td>3.0</td>\n",
              "      <td>6.0</td>\n",
              "      <td>0.389287</td>\n",
              "      <td>0.187060</td>\n",
              "      <td>0.076054</td>\n",
              "      <td>-0.347637</td>\n",
              "      <td>-0.115879</td>\n",
              "      <td>-0.115879</td>\n",
              "      <td>-0.115879</td>\n",
              "      <td>2.076739</td>\n",
              "      <td>1.069274</td>\n",
              "      <td>1.009442</td>\n",
              "      <td>0.457204</td>\n",
              "      <td>0.150543</td>\n",
              "      <td>0.165927</td>\n",
              "      <td>13.728366</td>\n",
              "      <td>10.874161</td>\n",
              "      <td>8.310439</td>\n",
              "      <td>943.130676</td>\n",
              "      <td>3287.291260</td>\n",
              "      <td>1563.593994</td>\n",
              "      <td>6160.323730</td>\n",
              "      <td>43781.566406</td>\n",
              "      <td>19728.500000</td>\n",
              "      <td>2.563915</td>\n",
              "      <td>3.280884</td>\n",
              "      <td>3.226650</td>\n",
              "      <td>907</td>\n",
              "    </tr>\n",
              "    <tr>\n",
              "      <th>6771382</th>\n",
              "      <td>0.000889</td>\n",
              "      <td>0.999999</td>\n",
              "      <td>6.502967</td>\n",
              "      <td>0.273914</td>\n",
              "      <td>0.011020</td>\n",
              "      <td>0.865816</td>\n",
              "      <td>1.004631</td>\n",
              "      <td>5429.225586</td>\n",
              "      <td>0.002753</td>\n",
              "      <td>0.036379</td>\n",
              "      <td>0.040004</td>\n",
              "      <td>0.110153</td>\n",
              "      <td>0.183199</td>\n",
              "      <td>0</td>\n",
              "      <td>3</td>\n",
              "      <td>1</td>\n",
              "      <td>0.0</td>\n",
              "      <td>0.0</td>\n",
              "      <td>0.0</td>\n",
              "      <td>0.0</td>\n",
              "      <td>1.000000</td>\n",
              "      <td>0.960757</td>\n",
              "      <td>0.960757</td>\n",
              "      <td>-0.777667</td>\n",
              "      <td>-0.222446</td>\n",
              "      <td>-0.222446</td>\n",
              "      <td>-0.332776</td>\n",
              "      <td>1.194183</td>\n",
              "      <td>0.710145</td>\n",
              "      <td>1.094024</td>\n",
              "      <td>0.162487</td>\n",
              "      <td>0.199006</td>\n",
              "      <td>0.564369</td>\n",
              "      <td>9.725705</td>\n",
              "      <td>13.215377</td>\n",
              "      <td>11.707615</td>\n",
              "      <td>2886.055908</td>\n",
              "      <td>2216.936279</td>\n",
              "      <td>598.068359</td>\n",
              "      <td>26387.134766</td>\n",
              "      <td>15534.978516</td>\n",
              "      <td>6504.145020</td>\n",
              "      <td>2.903129</td>\n",
              "      <td>2.634985</td>\n",
              "      <td>3.077517</td>\n",
              "      <td>213</td>\n",
              "    </tr>\n",
              "    <tr>\n",
              "      <th>686045</th>\n",
              "      <td>0.001295</td>\n",
              "      <td>0.999301</td>\n",
              "      <td>7.838184</td>\n",
              "      <td>0.325697</td>\n",
              "      <td>0.388636</td>\n",
              "      <td>11.391245</td>\n",
              "      <td>10.345356</td>\n",
              "      <td>661.717834</td>\n",
              "      <td>0.008163</td>\n",
              "      <td>0.436003</td>\n",
              "      <td>0.188972</td>\n",
              "      <td>0.458021</td>\n",
              "      <td>0.551724</td>\n",
              "      <td>9</td>\n",
              "      <td>5</td>\n",
              "      <td>1</td>\n",
              "      <td>2.0</td>\n",
              "      <td>0.0</td>\n",
              "      <td>1.0</td>\n",
              "      <td>3.0</td>\n",
              "      <td>0.352854</td>\n",
              "      <td>0.143209</td>\n",
              "      <td>0.137221</td>\n",
              "      <td>-0.482896</td>\n",
              "      <td>-0.084681</td>\n",
              "      <td>-0.100762</td>\n",
              "      <td>-0.297453</td>\n",
              "      <td>1.512858</td>\n",
              "      <td>1.091243</td>\n",
              "      <td>1.011030</td>\n",
              "      <td>0.656599</td>\n",
              "      <td>0.304019</td>\n",
              "      <td>0.801548</td>\n",
              "      <td>17.860973</td>\n",
              "      <td>3.498727</td>\n",
              "      <td>16.569244</td>\n",
              "      <td>461.727753</td>\n",
              "      <td>357.967560</td>\n",
              "      <td>1118.084229</td>\n",
              "      <td>5451.857422</td>\n",
              "      <td>10281.403320</td>\n",
              "      <td>23722.742188</td>\n",
              "      <td>3.160085</td>\n",
              "      <td>4.050494</td>\n",
              "      <td>3.747409</td>\n",
              "      <td>275</td>\n",
              "    </tr>\n",
              "    <tr>\n",
              "      <th>8755882</th>\n",
              "      <td>0.001714</td>\n",
              "      <td>0.999805</td>\n",
              "      <td>7.064559</td>\n",
              "      <td>0.113440</td>\n",
              "      <td>0.154421</td>\n",
              "      <td>13.925871</td>\n",
              "      <td>12.951378</td>\n",
              "      <td>3885.417969</td>\n",
              "      <td>0.066317</td>\n",
              "      <td>0.052183</td>\n",
              "      <td>0.029873</td>\n",
              "      <td>0.376774</td>\n",
              "      <td>0.412828</td>\n",
              "      <td>13</td>\n",
              "      <td>6</td>\n",
              "      <td>6</td>\n",
              "      <td>0.0</td>\n",
              "      <td>2.0</td>\n",
              "      <td>1.0</td>\n",
              "      <td>3.0</td>\n",
              "      <td>0.313903</td>\n",
              "      <td>0.250328</td>\n",
              "      <td>0.240195</td>\n",
              "      <td>-0.451658</td>\n",
              "      <td>-0.115879</td>\n",
              "      <td>-0.183488</td>\n",
              "      <td>-0.152291</td>\n",
              "      <td>1.555909</td>\n",
              "      <td>1.221972</td>\n",
              "      <td>1.544137</td>\n",
              "      <td>0.546148</td>\n",
              "      <td>0.417822</td>\n",
              "      <td>0.828005</td>\n",
              "      <td>44.483707</td>\n",
              "      <td>24.498425</td>\n",
              "      <td>20.247360</td>\n",
              "      <td>1773.747925</td>\n",
              "      <td>1643.278198</td>\n",
              "      <td>711.572205</td>\n",
              "      <td>7724.954590</td>\n",
              "      <td>12830.546875</td>\n",
              "      <td>6008.145996</td>\n",
              "      <td>2.151059</td>\n",
              "      <td>2.744157</td>\n",
              "      <td>2.823017</td>\n",
              "      <td>357</td>\n",
              "    </tr>\n",
              "  </tbody>\n",
              "</table>\n",
              "</div>"
            ],
            "text/plain": [
              "          LifeTime      dira  FlightDistance  ...    p1_eta    p2_eta  SPDhits\n",
              "id                                            ...                             \n",
              "14711831  0.001273  0.999816        8.569642  ...  3.608334  3.029715      705\n",
              "16316387  0.000661  0.999954        7.061379  ...  3.280884  3.226650      907\n",
              "6771382   0.000889  0.999999        6.502967  ...  2.634985  3.077517      213\n",
              "686045    0.001295  0.999301        7.838184  ...  4.050494  3.747409      275\n",
              "8755882   0.001714  0.999805        7.064559  ...  2.744157  2.823017      357\n",
              "\n",
              "[5 rows x 46 columns]"
            ]
          },
          "metadata": {
            "tags": []
          },
          "execution_count": 6
        }
      ]
    },
    {
      "cell_type": "markdown",
      "metadata": {
        "id": "UML_2RNOZ2w8"
      },
      "source": [
        "# Train simple model using part of the training sample"
      ]
    },
    {
      "cell_type": "code",
      "metadata": {
        "id": "jlpZRPKTZ2w8"
      },
      "source": [
        "train, test = train_test_split(train_ada, train_size=0.7, random_state=13)"
      ],
      "execution_count": 7,
      "outputs": []
    },
    {
      "cell_type": "markdown",
      "metadata": {
        "id": "aCq1eIhtZ2w9"
      },
      "source": [
        "Let's chose features to train a model"
      ]
    },
    {
      "cell_type": "code",
      "metadata": {
        "id": "SO5KBaaZZ2w9",
        "colab": {
          "base_uri": "https://localhost:8080/"
        },
        "outputId": "e8d5b3a4-c5e8-45b1-9fd7-ee550bdcb243"
      },
      "source": [
        "variables = list(set(train_ada.columns) - {'id', 'signal', 'mass', 'production', 'min_ANNmuon'})\n",
        "print (variables)"
      ],
      "execution_count": 8,
      "outputs": [
        {
          "output_type": "stream",
          "text": [
            "['FlightDistance', 'iso', 'p1_IP', 'p1_p', 'DOCAone', 'p2_track_Chi2Dof', 'ISO_SumBDT', 'pt', 'p0_IP', 'p0_IsoBDT', 'LifeTime', 'p2_p', 'p0_pt', 'SPDhits', 'isolatione', 'DOCAtwo', 'p1_IPSig', 'isolationd', 'p0_eta', 'DOCAthree', 'IPSig', 'p0_p', 'VertexChi2', 'p0_track_Chi2Dof', 'dira', 'CDF2', 'FlightDistanceError', 'p1_track_Chi2Dof', 'isolationf', 'p1_eta', 'p2_eta', 'IP_p1p2', 'isolationc', 'p2_IP', 'p0_IPSig', 'CDF1', 'p2_pt', 'isolationb', 'p2_IPSig', 'p1_pt', 'isolationa', 'IP', 'CDF3', 'p2_IsoBDT', 'p1_IsoBDT', 'IP_p0p2']\n"
          ],
          "name": "stdout"
        }
      ]
    },
    {
      "cell_type": "code",
      "metadata": {
        "id": "VoClUcEsZ2w9",
        "colab": {
          "base_uri": "https://localhost:8080/"
        },
        "outputId": "7373eaf4-c566-40eb-ece1-137ea988924a"
      },
      "source": [
        "%%time\n",
        "clf = AdaBoostClassifier(n_estimators=120, learning_rate=0.009, random_state=13,\n",
        "                             base_estimator=DecisionTreeClassifier(max_depth=19, min_samples_leaf=40, max_features=10,\n",
        "                                                                    random_state=13))\n",
        "clf.fit(train[variables], train['signal'])"
      ],
      "execution_count": 9,
      "outputs": [
        {
          "output_type": "stream",
          "text": [
            "CPU times: user 1min 20s, sys: 36.9 ms, total: 1min 20s\n",
            "Wall time: 1min 20s\n"
          ],
          "name": "stdout"
        }
      ]
    },
    {
      "cell_type": "markdown",
      "metadata": {
        "id": "KpmhqIWlZ2w-"
      },
      "source": [
        "# Check model quality on a half of the training sample\n"
      ]
    },
    {
      "cell_type": "code",
      "metadata": {
        "id": "bq73v-CuZ2w-"
      },
      "source": [
        "def plot_metrics(y_true, y_pred):\n",
        "    fpr, tpr, thresholds = roc_curve(y_true, y_pred)\n",
        "    roc_auc = roc_auc_score(y_true, y_pred)\n",
        "\n",
        "    plt.plot(fpr, tpr, label='ROC AUC=%f' % roc_auc)\n",
        "    plt.xlabel(\"FPR\")\n",
        "    plt.ylabel(\"TPR\")\n",
        "    plt.legend()\n",
        "    plt.title(\"ROC Curve\")"
      ],
      "execution_count": 10,
      "outputs": []
    },
    {
      "cell_type": "code",
      "metadata": {
        "id": "r5YwwrkmZ2w-",
        "colab": {
          "base_uri": "https://localhost:8080/",
          "height": 312
        },
        "outputId": "83504d28-2b28-4dc1-b8e6-1dd643d8bf97"
      },
      "source": [
        "y_pred = clf.predict_proba(test[variables])[:, 1]\n",
        "\n",
        "plot_metrics(test['signal'], y_pred)\n",
        "test.shape, y_pred.shape"
      ],
      "execution_count": 11,
      "outputs": [
        {
          "output_type": "execute_result",
          "data": {
            "text/plain": [
              "((20266, 51), (20266,))"
            ]
          },
          "metadata": {
            "tags": []
          },
          "execution_count": 11
        },
        {
          "output_type": "display_data",
          "data": {
            "image/png": "[encoded data removed]",
            "text/plain": [
              "<Figure size 432x288 with 1 Axes>"
            ]
          },
          "metadata": {
            "tags": [],
            "needs_background": "light"
          }
        }
      ]
    },
    {
      "cell_type": "markdown",
      "metadata": {
        "id": "PyNp_p-lZ2w-"
      },
      "source": [
        "ROC AUC is just a part of the solution, you also have to make sure that\n",
        "\n",
        "- the classifier output is not correlated with the mass\n",
        "- classifier performs similarily on MC and real data of the normalization channel\n"
      ]
    },
    {
      "cell_type": "markdown",
      "metadata": {
        "id": "njxklc9JZ2w-"
      },
      "source": [
        "### Mass correlation check"
      ]
    },
    {
      "cell_type": "code",
      "metadata": {
        "id": "Muj0900dZ2w_"
      },
      "source": [
        "df_corr_check = pd.read_csv(\"check_correlation.csv.gz\")"
      ],
      "execution_count": 12,
      "outputs": []
    },
    {
      "cell_type": "code",
      "metadata": {
        "id": "YXKqz5tPZ2w_",
        "colab": {
          "base_uri": "https://localhost:8080/"
        },
        "outputId": "2e1d3c04-34ec-41af-f02e-fab5f0f82fae"
      },
      "source": [
        "df_corr_check.shape"
      ],
      "execution_count": 13,
      "outputs": [
        {
          "output_type": "execute_result",
          "data": {
            "text/plain": [
              "(5514, 48)"
            ]
          },
          "metadata": {
            "tags": []
          },
          "execution_count": 13
        }
      ]
    },
    {
      "cell_type": "code",
      "metadata": {
        "id": "4p3DudtLZ2w_"
      },
      "source": [
        "y_pred = clf.predict(df_corr_check[variables])"
      ],
      "execution_count": 14,
      "outputs": []
    },
    {
      "cell_type": "code",
      "metadata": {
        "id": "4gRR6mM1Z2w_"
      },
      "source": [
        ""
      ],
      "execution_count": 14,
      "outputs": []
    },
    {
      "cell_type": "code",
      "metadata": {
        "id": "-ySBF8R3Z2w_"
      },
      "source": [
        " def efficiencies(features, thresholds=None, mask=None, bins=30, labels_dict=None, ignored_sideband=0.0,\n",
        "                     errors=False, grid_columns=2):\n",
        "        \"\"\"\n",
        "        Efficiencies for spectators\n",
        "        :param features: using features (if None then use classifier's spectators)\n",
        "        :type features: None or list[str]\n",
        "        :param bins: bins for histogram\n",
        "        :type bins: int or array-like\n",
        "        :param mask: mask for data, which will be used\n",
        "        :type mask: None or numbers.Number or array-like or str or function(pandas.DataFrame)\n",
        "        :param list[float] thresholds: thresholds on prediction\n",
        "        :param bool errors: if True then use errorbar, else interpolate function\n",
        "        :param labels_dict: label -- name for class label\n",
        "            if None then {0: 'bck', '1': 'signal'}\n",
        "        :type labels_dict: None or OrderedDict(int: str)\n",
        "        :param int grid_columns: count of columns in grid\n",
        "        :param float ignored_sideband: (0, 1) percent of plotting data\n",
        "        :rtype: plotting.GridPlot\n",
        "        \"\"\"\n",
        "        mask, data, class_labels, weight = self._apply_mask(\n",
        "            mask, self._get_features(features), self.target, self.weight)\n",
        "        labels_dict = self._check_labels(labels_dict, class_labels)\n",
        "\n",
        "        plots = []\n",
        "        for feature in data.columns:\n",
        "            for name, prediction in self.prediction.items():\n",
        "                prediction = prediction[mask]\n",
        "                eff = OrderedDict()\n",
        "                for label, label_name in labels_dict.items():\n",
        "                    label_mask = class_labels == label\n",
        "                    eff[label_name] = utils.get_efficiencies(prediction[label_mask, label],\n",
        "                                                             data[feature][label_mask].values,\n",
        "                                                             bins_number=bins,\n",
        "                                                             sample_weight=weight[label_mask],\n",
        "                                                             thresholds=thresholds, errors=errors,\n",
        "                                                             ignored_sideband=ignored_sideband)\n",
        "\n",
        "                for label_name, eff_data in eff.items():\n",
        "                    if errors:\n",
        "                        plot_fig = plotting.ErrorPlot(eff_data)\n",
        "                    else:\n",
        "                        plot_fig = plotting.FunctionsPlot(eff_data)\n",
        "                    plot_fig.xlabel = feature\n",
        "                    plot_fig.ylabel = 'Efficiency for {}'.format(name)\n",
        "                    plot_fig.title = '{} flatness'.format(label_name)\n",
        "                    plot_fig.ylim = (0, 1)\n",
        "                    plots.append(plot_fig)\n",
        "\n",
        "        return plotting.GridPlot(grid_columns, *plots)"
      ],
      "execution_count": 15,
      "outputs": []
    },
    {
      "cell_type": "code",
      "metadata": {
        "id": "3cH-2t3eZ2w_"
      },
      "source": [
        "def check_arrays(*arrays):\n",
        "    \"\"\"\n",
        "    Left for consistency, version of `sklearn.validation.check_arrays`\n",
        "    :param list[iterable] arrays: arrays with same length of first dimension.\n",
        "    \"\"\"\n",
        "    assert len(arrays) > 0, 'The number of array must be greater than zero'\n",
        "    checked_arrays = []\n",
        "    shapes = []\n",
        "    for arr in arrays:\n",
        "        if arr is not None:\n",
        "            checked_arrays.append(numpy.array(arr))\n",
        "            shapes.append(checked_arrays[-1].shape[0])\n",
        "        else:\n",
        "            checked_arrays.append(None)\n",
        "    assert numpy.sum(numpy.array(shapes) == shapes[0]) == len(shapes), 'Different shapes of the arrays {}'.format(\n",
        "        shapes)\n",
        "    return checked_arrays"
      ],
      "execution_count": 16,
      "outputs": []
    },
    {
      "cell_type": "code",
      "metadata": {
        "id": "531XDereZ2xA"
      },
      "source": [
        "def get_efficiencies(prediction, spectator, sample_weight=None, bins_number=20,\n",
        "                     thresholds=None, errors=False, ignored_sideband=0.0):\n",
        "    \"\"\"\n",
        "    Construct efficiency function dependent on spectator for each threshold\n",
        "    Different score functions available: Efficiency, Precision, Recall, F1Score,\n",
        "    and other things from sklearn.metrics\n",
        "    :param prediction: list of probabilities\n",
        "    :param spectator: list of spectator's values\n",
        "    :param bins_number: int, count of bins for plot\n",
        "    :param thresholds: list of prediction's threshold\n",
        "        (default=prediction's cuts for which efficiency will be [0.2, 0.4, 0.5, 0.6, 0.8])\n",
        "    :return:\n",
        "        if errors=False\n",
        "        OrderedDict threshold -> (x_values, y_values)\n",
        "        if errors=True\n",
        "        OrderedDict threshold -> (x_values, y_values, y_err, x_err)\n",
        "        All the parts: x_values, y_values, y_err, x_err are numpy.arrays of the same length.\n",
        "    \"\"\"\n",
        "    prediction, spectator, sample_weight = \\\n",
        "        check_arrays(prediction, spectator, sample_weight)\n",
        "\n",
        "    spectator_min, spectator_max = weighted_quantile(spectator, [ignored_sideband, (1. - ignored_sideband)])\n",
        "    mask = (spectator >= spectator_min) & (spectator <= spectator_max)\n",
        "    spectator = spectator[mask]\n",
        "    prediction = prediction[mask]\n",
        "    bins_number = min(bins_number, len(prediction))\n",
        "    sample_weight = sample_weight if sample_weight is None else numpy.array(sample_weight)[mask]\n",
        "\n",
        "    if thresholds is None:\n",
        "        thresholds = [weighted_quantile(prediction, quantiles=1 - eff, sample_weight=sample_weight)\n",
        "                      for eff in [0.2, 0.4, 0.5, 0.6, 0.8]]\n",
        "\n",
        "    binner = Binner(spectator, bins_number=bins_number)\n",
        "    if sample_weight is None:\n",
        "        sample_weight = numpy.ones(len(prediction))\n",
        "    bins_data = binner.split_into_bins(spectator, prediction, sample_weight)\n",
        "\n",
        "    bin_edges = numpy.array([spectator_min] + list(binner.limits) + [spectator_max])\n",
        "    xerr = numpy.diff(bin_edges) / 2.\n",
        "    result = OrderedDict()\n",
        "    for threshold in thresholds:\n",
        "        x_values = []\n",
        "        y_values = []\n",
        "        N_in_bin = []\n",
        "        for num, (masses, probabilities, weights) in enumerate(bins_data):\n",
        "            y_values.append(numpy.average(probabilities > threshold, weights=weights))\n",
        "            N_in_bin.append(numpy.sum(weights))\n",
        "            if errors:\n",
        "                x_values.append((bin_edges[num + 1] + bin_edges[num]) / 2.)\n",
        "            else:\n",
        "                x_values.append(numpy.mean(masses))\n",
        "\n",
        "        x_values, y_values, N_in_bin = check_arrays(x_values, y_values, N_in_bin)\n",
        "        if errors:\n",
        "            result[threshold] = (x_values, y_values, numpy.sqrt(y_values * (1 - y_values) / N_in_bin), xerr)\n",
        "        else:\n",
        "            result[threshold] = (x_values, y_values)\n",
        "    return result"
      ],
      "execution_count": 17,
      "outputs": []
    },
    {
      "cell_type": "code",
      "metadata": {
        "id": "rUSmeXjWZ2xA"
      },
      "source": [
        "def weighted_quantile(array, quantiles, sample_weight=None, array_sorted=False, old_style=False):\n",
        "    \"\"\"Computing quantiles of array. Unlike the numpy.percentile, this function supports weights,\n",
        "    but it is inefficient and performs complete sorting.\n",
        "    :param array: distribution, array of shape [n_samples]\n",
        "    :param quantiles: floats from range [0, 1] with quantiles of shape [n_quantiles]\n",
        "    :param sample_weight: optional weights of samples, array of shape [n_samples]\n",
        "    :param array_sorted: if True, the sorting step will be skipped\n",
        "    :param old_style: if True, will correct output to be consistent with numpy.percentile.\n",
        "    :return: array of shape [n_quantiles]\n",
        "    Example:\n",
        "    >>> weighted_quantile([1, 2, 3, 4, 5], [0.5])\n",
        "    Out: array([ 3.])\n",
        "    >>> weighted_quantile([1, 2, 3, 4, 5], [0.5], sample_weight=[3, 1, 1, 1, 1])\n",
        "    Out: array([ 2.])\n",
        "    \"\"\"\n",
        "    array = numpy.array(array)\n",
        "    quantiles = numpy.array(quantiles)\n",
        "    sample_weight = check_sample_weight(array, sample_weight)\n",
        "    assert numpy.all(quantiles >= 0) and numpy.all(quantiles <= 1), 'Percentiles should be in [0, 1]'\n",
        "\n",
        "    if not array_sorted:\n",
        "        array, sample_weight = reorder_by_first(array, sample_weight)\n",
        "\n",
        "    weighted_quantiles = numpy.cumsum(sample_weight) - 0.5 * sample_weight\n",
        "    if old_style:\n",
        "        # To be convenient with numpy.percentile\n",
        "        weighted_quantiles -= weighted_quantiles[0]\n",
        "        weighted_quantiles /= weighted_quantiles[-1]\n",
        "    else:\n",
        "        weighted_quantiles /= numpy.sum(sample_weight)\n",
        "    return numpy.interp(quantiles, weighted_quantiles, array)\n"
      ],
      "execution_count": 18,
      "outputs": []
    },
    {
      "cell_type": "code",
      "metadata": {
        "id": "tYFW0augZ2xA"
      },
      "source": [
        "def check_sample_weight(y_true, sample_weight):\n",
        "    \"\"\"Checks the weights, if None, returns array.\n",
        "    :param y_true: labels (or any array of length [n_samples])\n",
        "    :param sample_weight: None or array of length [n_samples]\n",
        "    :return: numpy.array of shape [n_samples]\n",
        "    \"\"\"\n",
        "    if sample_weight is None:\n",
        "        return numpy.ones(len(y_true), dtype=numpy.float)\n",
        "    else:\n",
        "        sample_weight = numpy.array(sample_weight, dtype=numpy.float)\n",
        "        assert len(y_true) == len(sample_weight), \\\n",
        "            \"The length of weights is different: not {0}, but {1}\".format(len(y_true), len(sample_weight))\n",
        "        return sample_weight\n",
        "\n"
      ],
      "execution_count": 19,
      "outputs": []
    },
    {
      "cell_type": "code",
      "metadata": {
        "id": "JX09aj-yZ2xA"
      },
      "source": [
        "\n",
        "def reorder_by_first(*arrays):\n",
        "    \"\"\"\n",
        "    Applies the same permutation to all passed arrays,\n",
        "    permutation sorts the first passed array\n",
        "    \"\"\"\n",
        "    arrays = check_arrays(*arrays)\n",
        "    order = numpy.argsort(arrays[0])\n",
        "    return [arr[order] for arr in arrays]\n",
        "\n",
        "class Binner(object):\n",
        "    def __init__(self, values, bins_number):\n",
        "        \"\"\"\n",
        "        Binner is a class that helps to split the values into several bins.\n",
        "        Initially an array of values is given, which is then splitted into 'bins_number' equal parts,\n",
        "        and thus we are computing limits (boundaries of bins).\n",
        "        \"\"\"\n",
        "        percentiles = [i * 100.0 / bins_number for i in range(1, bins_number)]\n",
        "        self.limits = numpy.percentile(values, percentiles)\n",
        "\n",
        "    def get_bins(self, values):\n",
        "        \"\"\"Given the values of feature, compute the index of bin\n",
        "        :param values: array of shape [n_samples]\n",
        "        :return: array of shape [n_samples]\n",
        "        \"\"\"\n",
        "        return numpy.searchsorted(self.limits, values)\n",
        "\n",
        "    def set_limits(self, limits):\n",
        "        \"\"\"Change the thresholds inside bins.\"\"\"\n",
        "        self.limits = limits\n",
        "\n",
        "    @property\n",
        "    def bins_number(self):\n",
        "        \"\"\":return: number of bins\"\"\"\n",
        "        return len(self.limits) + 1\n",
        "\n",
        "    def split_into_bins(self, *arrays):\n",
        "        \"\"\"\n",
        "        :param arrays: data to be splitted, the first array corresponds\n",
        "        :return: sequence of length [n_bins] with values corresponding to each bin.\n",
        "        \"\"\"\n",
        "        values = arrays[0]\n",
        "        for array in arrays:\n",
        "            assert len(array) == len(values), \"passed arrays have different length\"\n",
        "        bins = self.get_bins(values)\n",
        "        result = []\n",
        "        for bin in range(len(self.limits) + 1):\n",
        "            indices = bins == bin\n",
        "            result.append([numpy.array(array)[indices] for array in arrays])\n",
        "        return result\n",
        "from collections import OrderedDict\n"
      ],
      "execution_count": 20,
      "outputs": []
    },
    {
      "cell_type": "code",
      "metadata": {
        "id": "-NQe5Wq6Z2xA"
      },
      "source": [
        "eff = get_efficiencies(y_pred, df_corr_check.mass, thresholds=[0.5]) #, thresholds=[0.2, 0.4, 0.5, 0.6, 0.8])"
      ],
      "execution_count": 21,
      "outputs": []
    },
    {
      "cell_type": "code",
      "metadata": {
        "id": "OE_qFOHdZ2xA",
        "colab": {
          "base_uri": "https://localhost:8080/"
        },
        "outputId": "5b32159c-6cce-46ef-8c13-6d82fa83b520"
      },
      "source": [
        "eff.keys()"
      ],
      "execution_count": 22,
      "outputs": [
        {
          "output_type": "execute_result",
          "data": {
            "text/plain": [
              "odict_keys([0.5])"
            ]
          },
          "metadata": {
            "tags": []
          },
          "execution_count": 22
        }
      ]
    },
    {
      "cell_type": "code",
      "metadata": {
        "id": "Q6PHIq4oZ2xA",
        "colab": {
          "base_uri": "https://localhost:8080/",
          "height": 279
        },
        "outputId": "54946792-7f86-4944-a084-70f0ede0887d"
      },
      "source": [
        "for label_name, eff_data in eff.items():\n",
        "    pyplot.plot(eff_data[0], eff_data[1], label=\"global eff  %.1f\" % label_name)\n",
        "pyplot.xlabel('mass')\n",
        "pyplot.ylabel('Efficiency')\n",
        "pyplot.legend();"
      ],
      "execution_count": 23,
      "outputs": [
        {
          "output_type": "display_data",
          "data": {
            "image/png": "[encoded data removed]",
            "text/plain": [
              "<Figure size 432x288 with 1 Axes>"
            ]
          },
          "metadata": {
            "tags": [],
            "needs_background": "light"
          }
        }
      ]
    },
    {
      "cell_type": "code",
      "metadata": {
        "id": "GcylXcRpZ2xB"
      },
      "source": [
        "from utils import check_correlation\n",
        "from hep_ml import metrics"
      ],
      "execution_count": 24,
      "outputs": []
    },
    {
      "cell_type": "code",
      "metadata": {
        "id": "3Y1scDAIZ2xB",
        "colab": {
          "base_uri": "https://localhost:8080/"
        },
        "outputId": "a66e1f54-95a6-402e-98f7-c91b94e24928"
      },
      "source": [
        "corr_metric = check_correlation(y_pred, df_corr_check['mass'])\n",
        "print (corr_metric)"
      ],
      "execution_count": 25,
      "outputs": [
        {
          "output_type": "stream",
          "text": [
            "0.00019544359745789317\n"
          ],
          "name": "stdout"
        }
      ]
    },
    {
      "cell_type": "markdown",
      "metadata": {
        "id": "eoQVb_9VZ2xB"
      },
      "source": [
        "## MC vs Real difference"
      ]
    },
    {
      "cell_type": "code",
      "metadata": {
        "id": "yuq7Hu0tZ2xB"
      },
      "source": [
        "df_agreement = pd.read_csv('check_agreement.csv.gz')"
      ],
      "execution_count": 26,
      "outputs": []
    },
    {
      "cell_type": "code",
      "metadata": {
        "id": "ejxqzF4sZ2xB"
      },
      "source": [
        "\n",
        "from sklearn.utils.validation import column_or_1d\n",
        "def get_ks_metric(df_agree, df_test):\n",
        "    sig_ind = df_agree[df_agree['signal'] == 1].index\n",
        "    bck_ind = df_agree[df_agree['signal'] == 0].index\n",
        "\n",
        "    mc_prob = numpy.array(df_test.loc[sig_ind]['prediction'])\n",
        "    mc_weight = numpy.array(df_agree.loc[sig_ind]['weight'])\n",
        "    data_prob = numpy.array(df_test.loc[bck_ind]['prediction'])\n",
        "    data_weight = numpy.array(df_agree.loc[bck_ind]['weight'])\n",
        "    val, agreement_metric = check_agreement_ks_sample_weighted(data_prob, mc_prob, data_weight, mc_weight)\n",
        "    return agreement_metric['ks']"
      ],
      "execution_count": 27,
      "outputs": []
    },
    {
      "cell_type": "code",
      "metadata": {
        "id": "aRgewFgdZ2xB"
      },
      "source": [
        "def check_agreement_ks_sample_weighted (data_prediction, mc_prediction, weights_data, weights_mc):\n",
        "    data_prediction, weights_data = map(column_or_1d, [data_prediction, weights_data])\n",
        "    mc_prediction, weights_mc = map(column_or_1d, [mc_prediction, weights_mc])\n",
        "\n",
        "    assert numpy.all(data_prediction >= 0.) and numpy.all(data_prediction <= 1.), 'error in prediction'\n",
        "    assert numpy.all(mc_prediction >= 0.) and numpy.all(mc_prediction <= 1.), 'error in prediction'\n",
        "\n",
        "    weights_data = weights_data / numpy.sum(weights_data)\n",
        "    weights_mc = weights_mc / numpy.sum(weights_mc)\n",
        "\n",
        "    data_neg = data_prediction[weights_data < 0]\n",
        "    weights_neg = -weights_data[weights_data < 0]\n",
        "    mc_prediction = numpy.concatenate((mc_prediction, data_neg))\n",
        "    weights_mc = numpy.concatenate((weights_mc, weights_neg))\n",
        "    data_prediction = data_prediction[weights_data >= 0]\n",
        "    weights_data = weights_data[weights_data >= 0]\n",
        "\n",
        "    assert numpy.all(weights_data >= 0) and numpy.all(weights_mc >= 0)\n",
        "    assert numpy.allclose(weights_data.sum(), weights_mc.sum())\n",
        "\n",
        "    weights_data /= numpy.sum(weights_data)\n",
        "    weights_mc /= numpy.sum(weights_mc)\n",
        "\n",
        "    fpr, tpr, _ = roc_curve_splitted(data_prediction, mc_prediction, weights_data, weights_mc)\n",
        "\n",
        "    Dnm = numpy.max(numpy.abs(fpr - tpr))\n",
        "    Dnm_part = numpy.max(numpy.abs(fpr - tpr)[fpr + tpr < 1])\n",
        "\n",
        "    result = {'ks': Dnm, 'ks_part': Dnm_part}\n",
        "    return Dnm_part < 0.03, result"
      ],
      "execution_count": 28,
      "outputs": []
    },
    {
      "cell_type": "code",
      "metadata": {
        "id": "qSjb8tIYZ2xB",
        "colab": {
          "base_uri": "https://localhost:8080/"
        },
        "outputId": "d2e7455a-7557-4d9c-f2d3-f65dd8fbec98"
      },
      "source": [
        "df_agreement.columns"
      ],
      "execution_count": 29,
      "outputs": [
        {
          "output_type": "execute_result",
          "data": {
            "text/plain": [
              "Index(['id', 'LifeTime', 'dira', 'FlightDistance', 'FlightDistanceError', 'IP',\n",
              "       'IPSig', 'VertexChi2', 'pt', 'DOCAone', 'DOCAtwo', 'DOCAthree',\n",
              "       'IP_p0p2', 'IP_p1p2', 'isolationa', 'isolationb', 'isolationc',\n",
              "       'isolationd', 'isolatione', 'isolationf', 'iso', 'CDF1', 'CDF2', 'CDF3',\n",
              "       'ISO_SumBDT', 'p0_IsoBDT', 'p1_IsoBDT', 'p2_IsoBDT', 'p0_track_Chi2Dof',\n",
              "       'p1_track_Chi2Dof', 'p2_track_Chi2Dof', 'p0_IP', 'p1_IP', 'p2_IP',\n",
              "       'p0_IPSig', 'p1_IPSig', 'p2_IPSig', 'p0_pt', 'p1_pt', 'p2_pt', 'p0_p',\n",
              "       'p1_p', 'p2_p', 'p0_eta', 'p1_eta', 'p2_eta', 'SPDhits', 'signal',\n",
              "       'weight'],\n",
              "      dtype='object')"
            ]
          },
          "metadata": {
            "tags": []
          },
          "execution_count": 29
        }
      ]
    },
    {
      "cell_type": "code",
      "metadata": {
        "id": "Kv8QhDeQZ2xC",
        "colab": {
          "base_uri": "https://localhost:8080/",
          "height": 215
        },
        "outputId": "1d43e5ac-680a-4d32-94c5-e7f60f22a93c"
      },
      "source": [
        "df_agreement[variables].head()"
      ],
      "execution_count": 30,
      "outputs": [
        {
          "output_type": "execute_result",
          "data": {
            "text/html": [
              "<div>\n",
              "<style scoped>\n",
              "    .dataframe tbody tr th:only-of-type {\n",
              "        vertical-align: middle;\n",
              "    }\n",
              "\n",
              "    .dataframe tbody tr th {\n",
              "        vertical-align: top;\n",
              "    }\n",
              "\n",
              "    .dataframe thead th {\n",
              "        text-align: right;\n",
              "    }\n",
              "</style>\n",
              "<table border=\"1\" class=\"dataframe\">\n",
              "  <thead>\n",
              "    <tr style=\"text-align: right;\">\n",
              "      <th></th>\n",
              "      <th>FlightDistance</th>\n",
              "      <th>iso</th>\n",
              "      <th>p1_IP</th>\n",
              "      <th>p1_p</th>\n",
              "      <th>DOCAone</th>\n",
              "      <th>p2_track_Chi2Dof</th>\n",
              "      <th>ISO_SumBDT</th>\n",
              "      <th>pt</th>\n",
              "      <th>p0_IP</th>\n",
              "      <th>p0_IsoBDT</th>\n",
              "      <th>LifeTime</th>\n",
              "      <th>p2_p</th>\n",
              "      <th>p0_pt</th>\n",
              "      <th>SPDhits</th>\n",
              "      <th>isolatione</th>\n",
              "      <th>DOCAtwo</th>\n",
              "      <th>p1_IPSig</th>\n",
              "      <th>isolationd</th>\n",
              "      <th>p0_eta</th>\n",
              "      <th>DOCAthree</th>\n",
              "      <th>IPSig</th>\n",
              "      <th>p0_p</th>\n",
              "      <th>VertexChi2</th>\n",
              "      <th>p0_track_Chi2Dof</th>\n",
              "      <th>dira</th>\n",
              "      <th>CDF2</th>\n",
              "      <th>FlightDistanceError</th>\n",
              "      <th>p1_track_Chi2Dof</th>\n",
              "      <th>isolationf</th>\n",
              "      <th>p1_eta</th>\n",
              "      <th>p2_eta</th>\n",
              "      <th>IP_p1p2</th>\n",
              "      <th>isolationc</th>\n",
              "      <th>p2_IP</th>\n",
              "      <th>p0_IPSig</th>\n",
              "      <th>CDF1</th>\n",
              "      <th>p2_pt</th>\n",
              "      <th>isolationb</th>\n",
              "      <th>p2_IPSig</th>\n",
              "      <th>p1_pt</th>\n",
              "      <th>isolationa</th>\n",
              "      <th>IP</th>\n",
              "      <th>CDF3</th>\n",
              "      <th>p2_IsoBDT</th>\n",
              "      <th>p1_IsoBDT</th>\n",
              "      <th>IP_p0p2</th>\n",
              "    </tr>\n",
              "  </thead>\n",
              "  <tbody>\n",
              "    <tr>\n",
              "      <th>0</th>\n",
              "      <td>6.945030</td>\n",
              "      <td>4.0</td>\n",
              "      <td>0.474925</td>\n",
              "      <td>6380.673828</td>\n",
              "      <td>0.082219</td>\n",
              "      <td>1.487057</td>\n",
              "      <td>-0.207475</td>\n",
              "      <td>2251.611816</td>\n",
              "      <td>0.483199</td>\n",
              "      <td>-0.019306</td>\n",
              "      <td>0.001451</td>\n",
              "      <td>15195.594727</td>\n",
              "      <td>1438.064697</td>\n",
              "      <td>512</td>\n",
              "      <td>1.0</td>\n",
              "      <td>0.084005</td>\n",
              "      <td>10.732132</td>\n",
              "      <td>2.0</td>\n",
              "      <td>2.666142</td>\n",
              "      <td>0.066887</td>\n",
              "      <td>2.961298</td>\n",
              "      <td>10392.814453</td>\n",
              "      <td>7.953543</td>\n",
              "      <td>0.606178</td>\n",
              "      <td>0.999964</td>\n",
              "      <td>0.492269</td>\n",
              "      <td>0.229196</td>\n",
              "      <td>0.862549</td>\n",
              "      <td>1.0</td>\n",
              "      <td>3.302978</td>\n",
              "      <td>3.594246</td>\n",
              "      <td>0.214719</td>\n",
              "      <td>1</td>\n",
              "      <td>0.426797</td>\n",
              "      <td>24.701061</td>\n",
              "      <td>0.732076</td>\n",
              "      <td>834.562378</td>\n",
              "      <td>6</td>\n",
              "      <td>8.853514</td>\n",
              "      <td>468.645721</td>\n",
              "      <td>8</td>\n",
              "      <td>0.058117</td>\n",
              "      <td>0.179091</td>\n",
              "      <td>-0.098372</td>\n",
              "      <td>-0.089797</td>\n",
              "      <td>0.185107</td>\n",
              "    </tr>\n",
              "    <tr>\n",
              "      <th>1</th>\n",
              "      <td>9.468235</td>\n",
              "      <td>3.0</td>\n",
              "      <td>0.260311</td>\n",
              "      <td>64480.023438</td>\n",
              "      <td>0.007983</td>\n",
              "      <td>1.336784</td>\n",
              "      <td>-0.659644</td>\n",
              "      <td>10594.470703</td>\n",
              "      <td>0.712242</td>\n",
              "      <td>-0.278330</td>\n",
              "      <td>0.000679</td>\n",
              "      <td>23134.953125</td>\n",
              "      <td>316.791351</td>\n",
              "      <td>552</td>\n",
              "      <td>1.0</td>\n",
              "      <td>0.044154</td>\n",
              "      <td>16.435398</td>\n",
              "      <td>1.0</td>\n",
              "      <td>2.995265</td>\n",
              "      <td>0.001321</td>\n",
              "      <td>14.413060</td>\n",
              "      <td>3174.356934</td>\n",
              "      <td>7.141451</td>\n",
              "      <td>1.900118</td>\n",
              "      <td>0.999818</td>\n",
              "      <td>0.605835</td>\n",
              "      <td>0.517488</td>\n",
              "      <td>1.073474</td>\n",
              "      <td>1.0</td>\n",
              "      <td>2.834816</td>\n",
              "      <td>2.779366</td>\n",
              "      <td>0.217507</td>\n",
              "      <td>17</td>\n",
              "      <td>0.123877</td>\n",
              "      <td>11.312134</td>\n",
              "      <td>0.802508</td>\n",
              "      <td>2861.309814</td>\n",
              "      <td>6</td>\n",
              "      <td>7.737038</td>\n",
              "      <td>7547.703613</td>\n",
              "      <td>5</td>\n",
              "      <td>0.189683</td>\n",
              "      <td>0.584701</td>\n",
              "      <td>-0.194944</td>\n",
              "      <td>-0.186370</td>\n",
              "      <td>0.039357</td>\n",
              "    </tr>\n",
              "    <tr>\n",
              "      <th>2</th>\n",
              "      <td>13.280714</td>\n",
              "      <td>1.0</td>\n",
              "      <td>1.163556</td>\n",
              "      <td>3921.181641</td>\n",
              "      <td>0.045085</td>\n",
              "      <td>0.798658</td>\n",
              "      <td>-0.399239</td>\n",
              "      <td>2502.196289</td>\n",
              "      <td>0.381544</td>\n",
              "      <td>-0.115879</td>\n",
              "      <td>0.003027</td>\n",
              "      <td>10180.791016</td>\n",
              "      <td>1887.477905</td>\n",
              "      <td>318</td>\n",
              "      <td>0.0</td>\n",
              "      <td>0.106614</td>\n",
              "      <td>20.686119</td>\n",
              "      <td>0.0</td>\n",
              "      <td>2.776633</td>\n",
              "      <td>0.005850</td>\n",
              "      <td>11.973175</td>\n",
              "      <td>15219.761719</td>\n",
              "      <td>4.778880</td>\n",
              "      <td>0.660675</td>\n",
              "      <td>0.999847</td>\n",
              "      <td>0.682607</td>\n",
              "      <td>0.219291</td>\n",
              "      <td>1.683084</td>\n",
              "      <td>1.0</td>\n",
              "      <td>3.204923</td>\n",
              "      <td>3.081832</td>\n",
              "      <td>0.885080</td>\n",
              "      <td>1</td>\n",
              "      <td>1.290409</td>\n",
              "      <td>16.435801</td>\n",
              "      <td>0.682607</td>\n",
              "      <td>932.128235</td>\n",
              "      <td>2</td>\n",
              "      <td>44.521961</td>\n",
              "      <td>317.579529</td>\n",
              "      <td>2</td>\n",
              "      <td>0.231709</td>\n",
              "      <td>0.295038</td>\n",
              "      <td>-0.152291</td>\n",
              "      <td>-0.131069</td>\n",
              "      <td>0.335788</td>\n",
              "    </tr>\n",
              "    <tr>\n",
              "      <th>3</th>\n",
              "      <td>5.166821</td>\n",
              "      <td>0.0</td>\n",
              "      <td>0.164411</td>\n",
              "      <td>13221.149414</td>\n",
              "      <td>0.055115</td>\n",
              "      <td>0.938619</td>\n",
              "      <td>-0.821041</td>\n",
              "      <td>5097.813965</td>\n",
              "      <td>0.564650</td>\n",
              "      <td>-0.208248</td>\n",
              "      <td>0.000810</td>\n",
              "      <td>24291.875000</td>\n",
              "      <td>975.041687</td>\n",
              "      <td>290</td>\n",
              "      <td>0.0</td>\n",
              "      <td>0.038642</td>\n",
              "      <td>7.873435</td>\n",
              "      <td>0.0</td>\n",
              "      <td>2.179345</td>\n",
              "      <td>0.003864</td>\n",
              "      <td>0.891142</td>\n",
              "      <td>4365.082520</td>\n",
              "      <td>5.528002</td>\n",
              "      <td>0.770563</td>\n",
              "      <td>0.999998</td>\n",
              "      <td>0.533615</td>\n",
              "      <td>0.167886</td>\n",
              "      <td>1.093031</td>\n",
              "      <td>0.0</td>\n",
              "      <td>2.769762</td>\n",
              "      <td>2.918251</td>\n",
              "      <td>0.068347</td>\n",
              "      <td>3</td>\n",
              "      <td>0.166646</td>\n",
              "      <td>24.878387</td>\n",
              "      <td>0.533615</td>\n",
              "      <td>2617.248291</td>\n",
              "      <td>4</td>\n",
              "      <td>9.630725</td>\n",
              "      <td>1650.837524</td>\n",
              "      <td>4</td>\n",
              "      <td>0.011298</td>\n",
              "      <td>0.533615</td>\n",
              "      <td>-0.434991</td>\n",
              "      <td>-0.177802</td>\n",
              "      <td>0.076522</td>\n",
              "    </tr>\n",
              "    <tr>\n",
              "      <th>4</th>\n",
              "      <td>10.897236</td>\n",
              "      <td>0.0</td>\n",
              "      <td>0.230584</td>\n",
              "      <td>46903.394531</td>\n",
              "      <td>0.015587</td>\n",
              "      <td>1.123868</td>\n",
              "      <td>-1.116815</td>\n",
              "      <td>20388.097656</td>\n",
              "      <td>0.373736</td>\n",
              "      <td>-0.328938</td>\n",
              "      <td>0.000706</td>\n",
              "      <td>24241.628906</td>\n",
              "      <td>6035.000977</td>\n",
              "      <td>45</td>\n",
              "      <td>0.0</td>\n",
              "      <td>0.020872</td>\n",
              "      <td>18.738485</td>\n",
              "      <td>0.0</td>\n",
              "      <td>2.196114</td>\n",
              "      <td>0.014612</td>\n",
              "      <td>16.367550</td>\n",
              "      <td>27463.011719</td>\n",
              "      <td>8.670339</td>\n",
              "      <td>1.080559</td>\n",
              "      <td>0.999896</td>\n",
              "      <td>0.926410</td>\n",
              "      <td>0.284975</td>\n",
              "      <td>1.471946</td>\n",
              "      <td>0.0</td>\n",
              "      <td>2.262732</td>\n",
              "      <td>2.310401</td>\n",
              "      <td>0.139937</td>\n",
              "      <td>0</td>\n",
              "      <td>0.112430</td>\n",
              "      <td>28.557213</td>\n",
              "      <td>0.926410</td>\n",
              "      <td>4763.682617</td>\n",
              "      <td>1</td>\n",
              "      <td>7.389726</td>\n",
              "      <td>9657.492188</td>\n",
              "      <td>0</td>\n",
              "      <td>0.160511</td>\n",
              "      <td>0.926410</td>\n",
              "      <td>-0.344313</td>\n",
              "      <td>-0.443564</td>\n",
              "      <td>0.249906</td>\n",
              "    </tr>\n",
              "  </tbody>\n",
              "</table>\n",
              "</div>"
            ],
            "text/plain": [
              "   FlightDistance  iso     p1_IP  ...  p2_IsoBDT  p1_IsoBDT   IP_p0p2\n",
              "0        6.945030  4.0  0.474925  ...  -0.098372  -0.089797  0.185107\n",
              "1        9.468235  3.0  0.260311  ...  -0.194944  -0.186370  0.039357\n",
              "2       13.280714  1.0  1.163556  ...  -0.152291  -0.131069  0.335788\n",
              "3        5.166821  0.0  0.164411  ...  -0.434991  -0.177802  0.076522\n",
              "4       10.897236  0.0  0.230584  ...  -0.344313  -0.443564  0.249906\n",
              "\n",
              "[5 rows x 46 columns]"
            ]
          },
          "metadata": {
            "tags": []
          },
          "execution_count": 30
        }
      ]
    },
    {
      "cell_type": "code",
      "metadata": {
        "id": "49n2eJF1Z2xC"
      },
      "source": [
        "def compute_ks(data_prediction, mc_prediction, weights_data, weights_mc):\n",
        "    \"\"\"\n",
        "    Compute Kolmogorov-Smirnov (ks) distance between real data predictions cdf and Monte Carlo one.\n",
        "    :param data_prediction: array-like, real data predictions\n",
        "    :param mc_prediction: array-like, Monte Carlo data predictions\n",
        "    :param weights_data: array-like, real data weights\n",
        "    :param weights_mc: array-like, Monte Carlo weights\n",
        "    :return: ks value\n",
        "    \"\"\"\n",
        "    assert len(data_prediction) == len(weights_data), 'Data length and weight one must be the same'\n",
        "    assert len(mc_prediction) == len(weights_mc), 'Data length and weight one must be the same'\n",
        "\n",
        "    data_prediction, mc_prediction = numpy.array(data_prediction), numpy.array(mc_prediction)\n",
        "    weights_data, weights_mc = numpy.array(weights_data), numpy.array(weights_mc)\n",
        "\n",
        "    assert numpy.all(data_prediction >= 0.) and numpy.all(data_prediction <= 1.), 'Data predictions are out of range [0, 1]'\n",
        "    assert numpy.all(mc_prediction >= 0.) and numpy.all(mc_prediction <= 1.), 'MC predictions are out of range [0, 1]'\n",
        "\n",
        "    weights_data /= numpy.sum(weights_data)\n",
        "    weights_mc /= numpy.sum(weights_mc)\n",
        "\n",
        "    fpr, tpr = __roc_curve_splitted(data_prediction, mc_prediction, weights_data, weights_mc)\n",
        "\n",
        "    Dnm = numpy.max(numpy.abs(fpr - tpr))\n",
        "    return Dnm"
      ],
      "execution_count": 31,
      "outputs": []
    },
    {
      "cell_type": "code",
      "metadata": {
        "id": "k2iOcbHxZ2xC"
      },
      "source": [
        "from sklearn.metrics import roc_curve\n",
        "def __roc_curve_splitted(data_zero, data_one, sample_weights_zero, sample_weights_one):\n",
        "    \"\"\"\n",
        "    Compute roc curve\n",
        "    :param data_zero: 0-labeled data\n",
        "    :param data_one:  1-labeled data\n",
        "    :param sample_weights_zero: weights for 0-labeled data\n",
        "    :param sample_weights_one:  weights for 1-labeled data\n",
        "    :return: roc curve\n",
        "    \"\"\"\n",
        "    labels = [0] * len(data_zero) + [1] * len(data_one)\n",
        "    weights = numpy.concatenate([sample_weights_zero, sample_weights_one])\n",
        "    data_all = numpy.concatenate([data_zero, data_one])\n",
        "    fpr, tpr, _ = roc_curve(labels, data_all, sample_weight=weights)\n",
        "    return fpr, tpr"
      ],
      "execution_count": 32,
      "outputs": []
    },
    {
      "cell_type": "code",
      "metadata": {
        "id": "UAMYuj-MZ2xC",
        "colab": {
          "base_uri": "https://localhost:8080/"
        },
        "outputId": "fee6d2a9-035d-4d43-a150-76b8f2bba3af"
      },
      "source": [
        "agreement_probs = clf.predict_proba(df_agreement[variables])[:, 1]\n",
        "\n",
        "ks = compute_ks(\n",
        "    agreement_probs[df_agreement['signal'].values == 0],\n",
        "    agreement_probs[df_agreement['signal'].values == 1],\n",
        "    df_agreement[df_agreement['signal'] == 0]['weight'].values,\n",
        "    df_agreement[df_agreement['signal'] == 1]['weight'].values)\n",
        "print ('KS metric:', ks, \"is OK:\", ks < 0.09)"
      ],
      "execution_count": 33,
      "outputs": [
        {
          "output_type": "stream",
          "text": [
            "KS metric: 0.17002860050746582 is OK: False\n"
          ],
          "name": "stdout"
        }
      ]
    },
    {
      "cell_type": "code",
      "metadata": {
        "id": "6PNIFVLmZ2xC"
      },
      "source": [
        "def plot_ks(X_agreement, y_pred):\n",
        "    sig_ind = X_agreement[X_agreement['signal'] == 1].index\n",
        "    bck_ind = X_agreement[X_agreement['signal'] == 0].index\n",
        "\n",
        "    mc_prob = y_pred[sig_ind]\n",
        "    mc_weight = numpy.array(X_agreement.loc[sig_ind]['weight'])\n",
        "    data_prob = y_pred[bck_ind]\n",
        "    data_weight = numpy.array(X_agreement.loc[bck_ind]['weight'])\n",
        "    inds = data_weight < 0\n",
        "    mc_weight = numpy.array(list(mc_weight) + list(-data_weight[inds]))\n",
        "    mc_prob = numpy.array(list(mc_prob) + list(data_prob[inds]))\n",
        "    data_prob = data_prob[data_weight >= 0]\n",
        "    data_weight = data_weight[data_weight >= 0]\n",
        "    hist(data_prob, weights=data_weight, color='r', histtype='step', normed=True, bins=60, label='data')\n",
        "    hist(mc_prob, weights=mc_weight, color='b', histtype='step', normed=True, bins=60, label='mc')\n",
        "    xlabel(\"prediction\")\n",
        "    legend(loc=2)\n",
        "    show()"
      ],
      "execution_count": 34,
      "outputs": []
    },
    {
      "cell_type": "code",
      "metadata": {
        "id": "2ua0p6W1Z2xD"
      },
      "source": [
        "# plot_ks(df_agreement, agreement_probs)"
      ],
      "execution_count": 36,
      "outputs": []
    },
    {
      "cell_type": "markdown",
      "metadata": {
        "id": "9ANapl9fZ2xD"
      },
      "source": [
        "### Let's see if adding some noise can improve the agreement"
      ]
    },
    {
      "cell_type": "code",
      "metadata": {
        "id": "hYCJcVLqZ2xD"
      },
      "source": [
        "def add_noise(array, level=0.15, random_seed=34):\n",
        "    numpy.random.seed(random_seed)\n",
        "    return level * numpy.random.random(size=array.size) + (1 - level) * array"
      ],
      "execution_count": 37,
      "outputs": []
    },
    {
      "cell_type": "code",
      "metadata": {
        "id": "Q1SL9FAaZ2xD"
      },
      "source": [
        "agreement_probs_noise = add_noise(clf.predict_proba(df_agreement[variables])[:, 1])\n"
      ],
      "execution_count": 38,
      "outputs": []
    },
    {
      "cell_type": "code",
      "metadata": {
        "id": "yA6lc9pYZ2xE",
        "colab": {
          "base_uri": "https://localhost:8080/"
        },
        "outputId": "d69d356c-bf36-4b2e-ae3d-0bb2a756c046"
      },
      "source": [
        "ks_noise = compute_ks(\n",
        "    agreement_probs_noise[df_agreement['signal'].values == 0],\n",
        "    agreement_probs_noise[df_agreement['signal'].values == 1],\n",
        "    df_agreement[df_agreement['signal'] == 0]['weight'].values,\n",
        "    df_agreement[df_agreement['signal'] == 1]['weight'].values)\n",
        "print ('KS metric:', ks_noise, \"is OK:\", ks_noise < 0.09)"
      ],
      "execution_count": 39,
      "outputs": [
        {
          "output_type": "stream",
          "text": [
            "KS metric: 0.09453004628011674 is OK: False\n"
          ],
          "name": "stdout"
        }
      ]
    },
    {
      "cell_type": "code",
      "metadata": {
        "id": "fE_L07CoZ2xE"
      },
      "source": [
        "# plot_ks(df_agreement, agreement_probs_noise)"
      ],
      "execution_count": null,
      "outputs": []
    },
    {
      "cell_type": "markdown",
      "metadata": {
        "id": "S0D0qxLtZ2xE"
      },
      "source": [
        "### Check ROC with noise"
      ]
    },
    {
      "cell_type": "code",
      "metadata": {
        "id": "u5gyFKcaZ2xF",
        "colab": {
          "base_uri": "https://localhost:8080/"
        },
        "outputId": "d6f4863a-0ca5-47c1-a042-752884c51680"
      },
      "source": [
        "test.shape"
      ],
      "execution_count": 40,
      "outputs": [
        {
          "output_type": "execute_result",
          "data": {
            "text/plain": [
              "(20266, 51)"
            ]
          },
          "metadata": {
            "tags": []
          },
          "execution_count": 40
        }
      ]
    },
    {
      "cell_type": "code",
      "metadata": {
        "id": "6T0Gm-FkZ2xF",
        "colab": {
          "base_uri": "https://localhost:8080/",
          "height": 312
        },
        "outputId": "02095a1f-9317-4d7a-e715-47622bc64d0a"
      },
      "source": [
        "y_pred = add_noise(clf.predict_proba(test[variables])[:, 1])\n",
        "\n",
        "plot_metrics(test['signal'], y_pred)\n",
        "test.shape, y_pred.shape"
      ],
      "execution_count": 41,
      "outputs": [
        {
          "output_type": "execute_result",
          "data": {
            "text/plain": [
              "((20266, 51), (20266,))"
            ]
          },
          "metadata": {
            "tags": []
          },
          "execution_count": 41
        },
        {
          "output_type": "display_data",
          "data": {
            "image/png": "[encoded data removed]",
            "text/plain": [
              "<Figure size 432x288 with 1 Axes>"
            ]
          },
          "metadata": {
            "tags": [],
            "needs_background": "light"
          }
        }
      ]
    },
    {
      "cell_type": "markdown",
      "metadata": {
        "id": "Beg4aDVMZ2xF"
      },
      "source": [
        "# Train the model using the whole training sample"
      ]
    },
    {
      "cell_type": "code",
      "metadata": {
        "id": "hOfgcH3rZ2xF",
        "colab": {
          "base_uri": "https://localhost:8080/"
        },
        "outputId": "0bd2bd51-eeeb-4479-d305-d5330d2b1e53"
      },
      "source": [
        "%time clf.fit(train_ada[variables], train_ada['signal'])"
      ],
      "execution_count": 42,
      "outputs": [
        {
          "output_type": "stream",
          "text": [
            "CPU times: user 2min 8s, sys: 91.5 ms, total: 2min 9s\n",
            "Wall time: 2min 9s\n"
          ],
          "name": "stdout"
        },
        {
          "output_type": "execute_result",
          "data": {
            "text/plain": [
              "AdaBoostClassifier(algorithm='SAMME.R',\n",
              "                   base_estimator=DecisionTreeClassifier(ccp_alpha=0.0,\n",
              "                                                         class_weight=None,\n",
              "                                                         criterion='gini',\n",
              "                                                         max_depth=19,\n",
              "                                                         max_features=10,\n",
              "                                                         max_leaf_nodes=None,\n",
              "                                                         min_impurity_decrease=0.0,\n",
              "                                                         min_impurity_split=None,\n",
              "                                                         min_samples_leaf=40,\n",
              "                                                         min_samples_split=2,\n",
              "                                                         min_weight_fraction_leaf=0.0,\n",
              "                                                         presort='deprecated',\n",
              "                                                         random_state=13,\n",
              "                                                         splitter='best'),\n",
              "                   learning_rate=0.009, n_estimators=120, random_state=13)"
            ]
          },
          "metadata": {
            "tags": []
          },
          "execution_count": 42
        }
      ]
    },
    {
      "cell_type": "markdown",
      "metadata": {
        "id": "3t_P7ytAZ2xF"
      },
      "source": [
        "Compute prediction and add noise"
      ]
    },
    {
      "cell_type": "code",
      "metadata": {
        "id": "Wxq2VMsCZ2xF"
      },
      "source": [
        "y_pred = add_noise(clf.predict_proba(test_ada[variables])[:, 1])"
      ],
      "execution_count": 43,
      "outputs": []
    },
    {
      "cell_type": "markdown",
      "metadata": {
        "id": "xhsfyJ2pZ2xF"
      },
      "source": [
        "# Prepare submission file"
      ]
    },
    {
      "cell_type": "code",
      "metadata": {
        "id": "qc8D0BcVZ2xF"
      },
      "source": [
        "def save_submission(y_pred, index, filename='result'):\n",
        "    sep = ','\n",
        "    filename = '{}.csv.gz'.format(filename)\n",
        "    pd.DataFrame({'id': index, 'prediction': y_pred}).to_csv(\n",
        "                filename, sep=sep, index=False, compression='gzip')\n",
        "    print (\"Saved file: \", filename, \"\\nShape:\", (y_pred.shape[0], 2))\n",
        "    return filename"
      ],
      "execution_count": 46,
      "outputs": []
    },
    {
      "cell_type": "code",
      "metadata": {
        "id": "y_-xWIYGZ2xG",
        "colab": {
          "base_uri": "https://localhost:8080/",
          "height": 69
        },
        "outputId": "99c5d027-ca35-4b54-a2b1-545467feef22"
      },
      "source": [
        "save_submission(y_pred, test_ada.index, \"sample_submission\")"
      ],
      "execution_count": 47,
      "outputs": [
        {
          "output_type": "stream",
          "text": [
            "Saved file:  sample_submission.csv.gz \n",
            "Shape: (855819, 2)\n"
          ],
          "name": "stdout"
        },
        {
          "output_type": "execute_result",
          "data": {
            "application/vnd.google.colaboratory.intrinsic+json": {
              "type": "string"
            },
            "text/plain": [
              "'sample_submission.csv.gz'"
            ]
          },
          "metadata": {
            "tags": []
          },
          "execution_count": 47
        }
      ]
    },
    {
      "cell_type": "code",
      "metadata": {
        "id": "TCfK80joZ2xG"
      },
      "source": [
        ""
      ],
      "execution_count": null,
      "outputs": []
    }
  ]
}